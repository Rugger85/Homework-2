{
 "cells": [
  {
   "cell_type": "code",
   "execution_count": 1,
   "id": "d34d4a0a",
   "metadata": {},
   "outputs": [
    {
     "data": {
      "text/plain": [
       "['__add__',\n",
       " '__class__',\n",
       " '__contains__',\n",
       " '__delattr__',\n",
       " '__dir__',\n",
       " '__doc__',\n",
       " '__eq__',\n",
       " '__format__',\n",
       " '__ge__',\n",
       " '__getattribute__',\n",
       " '__getitem__',\n",
       " '__getnewargs__',\n",
       " '__gt__',\n",
       " '__hash__',\n",
       " '__init__',\n",
       " '__init_subclass__',\n",
       " '__iter__',\n",
       " '__le__',\n",
       " '__len__',\n",
       " '__lt__',\n",
       " '__mod__',\n",
       " '__mul__',\n",
       " '__ne__',\n",
       " '__new__',\n",
       " '__reduce__',\n",
       " '__reduce_ex__',\n",
       " '__repr__',\n",
       " '__rmod__',\n",
       " '__rmul__',\n",
       " '__setattr__',\n",
       " '__sizeof__',\n",
       " '__str__',\n",
       " '__subclasshook__',\n",
       " 'capitalize',\n",
       " 'casefold',\n",
       " 'center',\n",
       " 'count',\n",
       " 'encode',\n",
       " 'endswith',\n",
       " 'expandtabs',\n",
       " 'find',\n",
       " 'format',\n",
       " 'format_map',\n",
       " 'index',\n",
       " 'isalnum',\n",
       " 'isalpha',\n",
       " 'isascii',\n",
       " 'isdecimal',\n",
       " 'isdigit',\n",
       " 'isidentifier',\n",
       " 'islower',\n",
       " 'isnumeric',\n",
       " 'isprintable',\n",
       " 'isspace',\n",
       " 'istitle',\n",
       " 'isupper',\n",
       " 'join',\n",
       " 'ljust',\n",
       " 'lower',\n",
       " 'lstrip',\n",
       " 'maketrans',\n",
       " 'partition',\n",
       " 'removeprefix',\n",
       " 'removesuffix',\n",
       " 'replace',\n",
       " 'rfind',\n",
       " 'rindex',\n",
       " 'rjust',\n",
       " 'rpartition',\n",
       " 'rsplit',\n",
       " 'rstrip',\n",
       " 'split',\n",
       " 'splitlines',\n",
       " 'startswith',\n",
       " 'strip',\n",
       " 'swapcase',\n",
       " 'title',\n",
       " 'translate',\n",
       " 'upper',\n",
       " 'zfill']"
      ]
     },
     "execution_count": 1,
     "metadata": {},
     "output_type": "execute_result"
    }
   ],
   "source": [
    "dir(str)"
   ]
  },
  {
   "cell_type": "code",
   "execution_count": null,
   "id": "e0d74a56",
   "metadata": {},
   "outputs": [],
   "source": [
    "['capitalize', ok\n",
    " 'casefold', ok\n",
    " 'center', ok\n",
    " 'count',ok\n",
    " 'encode', \n",
    " 'endswith', ok\n",
    " 'expandtabs', ok\n",
    " 'find', ok\n",
    " 'format', ok\n",
    " 'format_map',\n",
    " 'index',ok\n",
    " 'isalnum', ok\n",
    " 'isalpha', ok\n",
    " 'isascii', ok\n",
    " 'isdecimal', ok\n",
    " 'isdigit',ok\n",
    " 'isidentifier', ok\n",
    " 'islower', ok\n",
    " 'isnumeric', ok\n",
    " 'isprintable', ok\n",
    " 'isspace', ok\n",
    " 'istitle',ok\n",
    " 'isupper', ok\n",
    " 'join', ok\n",
    " 'ljust',ok\n",
    " 'lower',ok\n",
    " 'lstrip', ok\n",
    " 'maketrans', ok\n",
    " 'partition', ok\n",
    " 'removeprefix', ok\n",
    " 'removesuffix', ok\n",
    " 'replace', ok\n",
    " 'rfind', ok\n",
    " 'rindex', ok\n",
    " 'rjust', ok\n",
    " 'rpartition', ok\n",
    " 'rsplit', ok\n",
    " 'rstrip', ok\n",
    " 'split', ok\n",
    " 'splitlines', ok\n",
    " 'startswith', ok\n",
    " 'strip', ok\n",
    " 'swapcase', ok\n",
    " 'title', ok\n",
    " 'translate', ok\n",
    " 'upper', ok\n",
    " 'zfill'] ok"
   ]
  },
  {
   "cell_type": "code",
   "execution_count": 2,
   "id": "34dd6e84",
   "metadata": {},
   "outputs": [
    {
     "name": "stdout",
     "output_type": "stream",
     "text": [
      "Pakistan zinda bad!\n"
     ]
    }
   ],
   "source": [
    "a = \"Pakistan zInDA BAd!\"\n",
    "print(a.capitalize())"
   ]
  },
  {
   "cell_type": "code",
   "execution_count": 3,
   "id": "363d455b",
   "metadata": {},
   "outputs": [
    {
     "name": "stdout",
     "output_type": "stream",
     "text": [
      "pakistan zinda bad!\n"
     ]
    }
   ],
   "source": [
    "a = \"Pakistan zInDA BAd!\"\n",
    "print(a.casefold())"
   ]
  },
  {
   "cell_type": "code",
   "execution_count": 9,
   "id": "af8a69d7",
   "metadata": {},
   "outputs": [
    {
     "name": "stdout",
     "output_type": "stream",
     "text": [
      "                 Pakistan zInDA BAd!              \n"
     ]
    }
   ],
   "source": [
    "a = \"    Pakistan zInDA BAd!\"\n",
    "print(a.center(50))"
   ]
  },
  {
   "cell_type": "code",
   "execution_count": 13,
   "id": "4a85b06a",
   "metadata": {},
   "outputs": [
    {
     "name": "stdout",
     "output_type": "stream",
     "text": [
      "2\n"
     ]
    }
   ],
   "source": [
    "a = \"Pakistan zInDA BAd!\"\n",
    "print(a.count('a'))"
   ]
  },
  {
   "cell_type": "code",
   "execution_count": 14,
   "id": "f3e34567",
   "metadata": {},
   "outputs": [
    {
     "name": "stdout",
     "output_type": "stream",
     "text": [
      "20\n"
     ]
    }
   ],
   "source": [
    "a = \"Pakistan zInDA BAd!\"\n",
    "print(a.count(''))"
   ]
  },
  {
   "cell_type": "code",
   "execution_count": 16,
   "id": "821f3718",
   "metadata": {},
   "outputs": [
    {
     "name": "stdout",
     "output_type": "stream",
     "text": [
      "Pakistan zInDA BAd!\n"
     ]
    },
    {
     "data": {
      "text/plain": [
       "False"
      ]
     },
     "execution_count": 16,
     "metadata": {},
     "output_type": "execute_result"
    }
   ],
   "source": [
    "a = \"Pakistan zInDA BAd!\"\n",
    "print(a)\n",
    "a.endswith('Bad')"
   ]
  },
  {
   "cell_type": "code",
   "execution_count": 29,
   "id": "30dfbf90",
   "metadata": {},
   "outputs": [
    {
     "name": "stdout",
     "output_type": "stream",
     "text": [
      "Pakistan zInDA BAd! we love our country\n"
     ]
    },
    {
     "data": {
      "text/plain": [
       "'Pakistan zInDA BAd! we love our country'"
      ]
     },
     "execution_count": 29,
     "metadata": {},
     "output_type": "execute_result"
    }
   ],
   "source": [
    "a = \"Pakistan zInDA BAd! we love our country\"\n",
    "print(a)\n",
    "a.expandtabs(500)\n"
   ]
  },
  {
   "cell_type": "code",
   "execution_count": 30,
   "id": "958583ac",
   "metadata": {},
   "outputs": [
    {
     "name": "stdout",
     "output_type": "stream",
     "text": [
      "20\n"
     ]
    }
   ],
   "source": [
    "a = \"Pakistan zInDA BAd! we love our country\"\n",
    "print(a.find('we'))"
   ]
  },
  {
   "cell_type": "code",
   "execution_count": 32,
   "id": "91967832",
   "metadata": {},
   "outputs": [
    {
     "name": "stdout",
     "output_type": "stream",
     "text": [
      "\n",
      "Uninversity_Name: NED\n",
      "Student_name: Usama\n",
      "Father's name = Shakeel Ahmed\n",
      "Batch: 04\n",
      "age = 38\n",
      "date_of_admisiion = 2022-01-15\n",
      "Class_timing = 5:15 to 7:15\n",
      "Gender = Male\n"
     ]
    }
   ],
   "source": [
    "Student_name = \"Usama\"\n",
    "Student_father_name = \"Shakeel Ahmed\"\n",
    "Batch = '04'\n",
    "University_name = \"NED\"\n",
    "age = 38\n",
    "date_of_admission = \"2022-01-15\"\n",
    "class_timing = '5:15 to 7:15'\n",
    "Gender = \"Male\"\n",
    "\n",
    "Student_card = \"\"\"\n",
    "Uninversity_Name: {0}\n",
    "Student_name: {1}\n",
    "Father's name = {2}\n",
    "Batch: {3}\n",
    "age = {4}\n",
    "date_of_admisiion = {5}\n",
    "Class_timing = {6}\n",
    "Gender = {7}\"\"\".format(University_name,Student_name,Student_father_name,Batch,age,date_of_admission,class_timing,Gender)\n",
    "print(Student_card)"
   ]
  },
  {
   "cell_type": "code",
   "execution_count": 33,
   "id": "6165ba30",
   "metadata": {},
   "outputs": [
    {
     "name": "stdout",
     "output_type": "stream",
     "text": [
      "23\n"
     ]
    }
   ],
   "source": [
    "a = \"Pakistan zInDA BAd! we love our country\"\n",
    "print(a.index('love'))"
   ]
  },
  {
   "cell_type": "code",
   "execution_count": 36,
   "id": "43034cb4",
   "metadata": {},
   "outputs": [
    {
     "name": "stdout",
     "output_type": "stream",
     "text": [
      "False\n"
     ]
    }
   ],
   "source": [
    "a = \"Pakistan zInDA BAd! we love our country\"\n",
    "print(a.isalnum())\n"
   ]
  },
  {
   "cell_type": "code",
   "execution_count": 37,
   "id": "ac740aff",
   "metadata": {},
   "outputs": [
    {
     "name": "stdout",
     "output_type": "stream",
     "text": [
      "False\n"
     ]
    }
   ],
   "source": [
    "Student_name = \"Usama\"\n",
    "Student_father_name = \"Shakeel Ahmed\"\n",
    "Batch = '04'\n",
    "University_name = \"NED\"\n",
    "age = 38\n",
    "date_of_admission = \"2022-01-15\"\n",
    "class_timing = '5:15 to 7:15'\n",
    "Gender = \"Male\"\n",
    "\n",
    "Student_card = \"\"\"\n",
    "Uninversity_Name: {0}\n",
    "Student_name: {1}\n",
    "Father's name = {2}\n",
    "Batch: {3}\n",
    "age = {4}\n",
    "date_of_admisiion = {5}\n",
    "Class_timing = {6}\n",
    "Gender = {7}\"\"\".format(University_name,Student_name,Student_father_name,Batch,age,date_of_admission,class_timing,Gender)\n",
    "print(Student_card.isalnum())"
   ]
  },
  {
   "cell_type": "code",
   "execution_count": 39,
   "id": "feb4d40b",
   "metadata": {},
   "outputs": [
    {
     "name": "stdout",
     "output_type": "stream",
     "text": [
      "True\n"
     ]
    }
   ],
   "source": [
    "a = '36'\n",
    "print(a.isalnum())"
   ]
  },
  {
   "cell_type": "code",
   "execution_count": 40,
   "id": "ed654b1f",
   "metadata": {},
   "outputs": [
    {
     "name": "stdout",
     "output_type": "stream",
     "text": [
      "False\n"
     ]
    }
   ],
   "source": [
    "a = \"Pakistan zInDA BAd! we love our country\"\n",
    "print(a.isalpha())"
   ]
  },
  {
   "cell_type": "code",
   "execution_count": 42,
   "id": "b0888e16",
   "metadata": {},
   "outputs": [
    {
     "name": "stdout",
     "output_type": "stream",
     "text": [
      "True\n"
     ]
    }
   ],
   "source": [
    "a = \"Pakistan zInDA BAd! we love our country\"\n",
    "print(a.isascii())"
   ]
  },
  {
   "cell_type": "code",
   "execution_count": 49,
   "id": "595abd8f",
   "metadata": {},
   "outputs": [
    {
     "name": "stdout",
     "output_type": "stream",
     "text": [
      "False\n"
     ]
    }
   ],
   "source": [
    "a = '36.5'\n",
    "print(a.isdecimal())"
   ]
  },
  {
   "cell_type": "code",
   "execution_count": 53,
   "id": "f4901bfe",
   "metadata": {},
   "outputs": [
    {
     "name": "stdout",
     "output_type": "stream",
     "text": [
      "True\n"
     ]
    }
   ],
   "source": [
    "a = '36'\n",
    "print(a.isdigit())"
   ]
  },
  {
   "cell_type": "code",
   "execution_count": 56,
   "id": "bc0b5da4",
   "metadata": {},
   "outputs": [
    {
     "name": "stdout",
     "output_type": "stream",
     "text": [
      "False\n"
     ]
    }
   ],
   "source": [
    "a = \"Pakistan zInDA BAd! we love our country\"\n",
    "print(a.isidentifier())"
   ]
  },
  {
   "cell_type": "code",
   "execution_count": 58,
   "id": "14e9ea4c",
   "metadata": {},
   "outputs": [
    {
     "name": "stdout",
     "output_type": "stream",
     "text": [
      "True\n"
     ]
    }
   ],
   "source": [
    "a = \"pakistan zinda bad we love our country\"\n",
    "print(a.islower())"
   ]
  },
  {
   "cell_type": "code",
   "execution_count": 59,
   "id": "ec168738",
   "metadata": {},
   "outputs": [
    {
     "name": "stdout",
     "output_type": "stream",
     "text": [
      "True\n"
     ]
    }
   ],
   "source": [
    "a = '36'\n",
    "print(a.isnumeric())"
   ]
  },
  {
   "cell_type": "code",
   "execution_count": 62,
   "id": "88576120",
   "metadata": {},
   "outputs": [
    {
     "name": "stdout",
     "output_type": "stream",
     "text": [
      "True\n"
     ]
    }
   ],
   "source": [
    "a = 'Pakistan Zindabad'\n",
    "print(a.isprintable())"
   ]
  },
  {
   "cell_type": "code",
   "execution_count": 67,
   "id": "b57bc398",
   "metadata": {},
   "outputs": [
    {
     "data": {
      "text/plain": [
       "False"
      ]
     },
     "execution_count": 67,
     "metadata": {},
     "output_type": "execute_result"
    }
   ],
   "source": [
    "a = 'Pakistan Zindabad'\n",
    "a.isspace()"
   ]
  },
  {
   "cell_type": "code",
   "execution_count": 66,
   "id": "857d0a1a",
   "metadata": {},
   "outputs": [
    {
     "data": {
      "text/plain": [
       "True"
      ]
     },
     "execution_count": 66,
     "metadata": {},
     "output_type": "execute_result"
    }
   ],
   "source": [
    "a = 'Pakistan Zindabad'\n",
    "a.istitle()"
   ]
  },
  {
   "cell_type": "code",
   "execution_count": 68,
   "id": "7a8df68c",
   "metadata": {},
   "outputs": [
    {
     "data": {
      "text/plain": [
       "False"
      ]
     },
     "execution_count": 68,
     "metadata": {},
     "output_type": "execute_result"
    }
   ],
   "source": [
    "a = 'Pakistan Zindabad'\n",
    "a.isupper()"
   ]
  },
  {
   "cell_type": "code",
   "execution_count": 83,
   "id": "5c5c578e",
   "metadata": {},
   "outputs": [
    {
     "name": "stdout",
     "output_type": "stream",
     "text": [
      "PPakistan   ZindabadaPakistan   ZindabadkPakistan   ZindabadiPakistan   ZindabadsPakistan   ZindabadtPakistan   ZindabadaPakistan   ZindabadnPakistan   Zindabad Pakistan   Zindabad Pakistan   Zindabad Pakistan   ZindabadZPakistan   ZindabadiPakistan   ZindabadnPakistan   ZindabaddPakistan   ZindabadaPakistan   ZindabadbPakistan   ZindabadaPakistan   Zindabadd\n"
     ]
    }
   ],
   "source": [
    "a = 'Pakistan   Zindabad'\n",
    "print(a.join(a))\n"
   ]
  },
  {
   "cell_type": "code",
   "execution_count": 89,
   "id": "6b829836",
   "metadata": {},
   "outputs": [
    {
     "name": "stdout",
     "output_type": "stream",
     "text": [
      "Pakistan   Zindabad\n"
     ]
    }
   ],
   "source": [
    "a = 'Pakistan   Zindabad'\n",
    "print(a.ljust(11))"
   ]
  },
  {
   "cell_type": "code",
   "execution_count": 90,
   "id": "1f68e8cf",
   "metadata": {},
   "outputs": [
    {
     "name": "stdout",
     "output_type": "stream",
     "text": [
      "pakistan   zindabad\n"
     ]
    }
   ],
   "source": [
    "a = 'Pakistan   Zindabad'\n",
    "print(a.lower())"
   ]
  },
  {
   "cell_type": "code",
   "execution_count": 96,
   "id": "34dba9c4",
   "metadata": {},
   "outputs": [
    {
     "name": "stdout",
     "output_type": "stream",
     "text": [
      "akistan   Zindabad\n"
     ]
    }
   ],
   "source": [
    "a = 'Pakistan   Zindabad'\n",
    "print(a.lstrip('P'))"
   ]
  },
  {
   "cell_type": "code",
   "execution_count": 103,
   "id": "b5d87125",
   "metadata": {},
   "outputs": [
    {
     "name": "stdout",
     "output_type": "stream",
     "text": [
      "{80: 90}\n"
     ]
    }
   ],
   "source": [
    "a = 'Pakistan   Zindabad'\n",
    "print(a.maketrans('P','Z'))"
   ]
  },
  {
   "cell_type": "code",
   "execution_count": 106,
   "id": "0b6f68dc",
   "metadata": {},
   "outputs": [
    {
     "name": "stdout",
     "output_type": "stream",
     "text": [
      "('', 'Pakistan', 'Zindabad')\n"
     ]
    }
   ],
   "source": [
    "a = 'PakistanZindabad'\n",
    "print(a.partition('Pakistan'))"
   ]
  },
  {
   "cell_type": "code",
   "execution_count": 116,
   "id": "82caf850",
   "metadata": {},
   "outputs": [
    {
     "data": {
      "text/plain": [
       "\"akistan's first\""
      ]
     },
     "execution_count": 116,
     "metadata": {},
     "output_type": "execute_result"
    }
   ],
   "source": [
    "a = 'Pakistan\\'s first' \n",
    "a.removeprefix(\"P\")"
   ]
  },
  {
   "cell_type": "code",
   "execution_count": 117,
   "id": "ff08ca50",
   "metadata": {},
   "outputs": [
    {
     "data": {
      "text/plain": [
       "'Pakistan firs'"
      ]
     },
     "execution_count": 117,
     "metadata": {},
     "output_type": "execute_result"
    }
   ],
   "source": [
    "a = 'Pakistan first'\n",
    "a.removesuffix('t')"
   ]
  },
  {
   "cell_type": "code",
   "execution_count": 118,
   "id": "0a4d69b5",
   "metadata": {},
   "outputs": [
    {
     "data": {
      "text/plain": [
       "'Pakistan Zindabad'"
      ]
     },
     "execution_count": 118,
     "metadata": {},
     "output_type": "execute_result"
    }
   ],
   "source": [
    "a = 'Pakistan first'\n",
    "a.replace('first','Zindabad')"
   ]
  },
  {
   "cell_type": "code",
   "execution_count": 119,
   "id": "76066775",
   "metadata": {},
   "outputs": [
    {
     "data": {
      "text/plain": [
       "9"
      ]
     },
     "execution_count": 119,
     "metadata": {},
     "output_type": "execute_result"
    }
   ],
   "source": [
    "a = 'Pakistan first'\n",
    "a.rfind('first')"
   ]
  },
  {
   "cell_type": "code",
   "execution_count": 122,
   "id": "91920a09",
   "metadata": {},
   "outputs": [
    {
     "data": {
      "text/plain": [
       "22"
      ]
     },
     "execution_count": 122,
     "metadata": {},
     "output_type": "execute_result"
    }
   ],
   "source": [
    "a = \"pakistan zinda bad we love our country\"\n",
    "a.rindex('love')"
   ]
  },
  {
   "cell_type": "code",
   "execution_count": 128,
   "id": "a6b8ea85",
   "metadata": {},
   "outputs": [
    {
     "data": {
      "text/plain": [
       "'                                                                                                                                                                                                                                                                      pakistan zinda bad we love our country'"
      ]
     },
     "execution_count": 128,
     "metadata": {},
     "output_type": "execute_result"
    }
   ],
   "source": [
    "a = \"                  pakistan zinda bad we love our country\"\n",
    "a.rjust(300)"
   ]
  },
  {
   "cell_type": "code",
   "execution_count": 131,
   "id": "5ea48f28",
   "metadata": {},
   "outputs": [
    {
     "data": {
      "text/plain": [
       "['                  pakistan zinda bad we ', ' our country']"
      ]
     },
     "execution_count": 131,
     "metadata": {},
     "output_type": "execute_result"
    }
   ],
   "source": [
    "a = \"                  pakistan zinda bad we love our country\"\n",
    "a.rsplit('love')"
   ]
  },
  {
   "cell_type": "code",
   "execution_count": 137,
   "id": "e6b80fde",
   "metadata": {},
   "outputs": [
    {
     "data": {
      "text/plain": [
       "'                  pakistan zinda bad we love our '"
      ]
     },
     "execution_count": 137,
     "metadata": {},
     "output_type": "execute_result"
    }
   ],
   "source": [
    "a = \"                  pakistan zinda bad we love our country\"\n",
    "a.rstrip('country')"
   ]
  },
  {
   "cell_type": "code",
   "execution_count": 138,
   "id": "c7f41d6e",
   "metadata": {},
   "outputs": [
    {
     "data": {
      "text/plain": [
       "['                  pakistan zinda bad we love our ', '']"
      ]
     },
     "execution_count": 138,
     "metadata": {},
     "output_type": "execute_result"
    }
   ],
   "source": [
    "a = \"                  pakistan zinda bad we love our country\"\n",
    "a.split('country')"
   ]
  },
  {
   "cell_type": "code",
   "execution_count": 144,
   "id": "7d604e74",
   "metadata": {},
   "outputs": [
    {
     "data": {
      "text/plain": [
       "['                  pakistan zinda bad we love our country']"
      ]
     },
     "execution_count": 144,
     "metadata": {},
     "output_type": "execute_result"
    }
   ],
   "source": [
    "a = \"                  pakistan zinda bad we love our country\"\n",
    "a.splitlines(19)"
   ]
  },
  {
   "cell_type": "code",
   "execution_count": 145,
   "id": "e2101d65",
   "metadata": {},
   "outputs": [
    {
     "data": {
      "text/plain": [
       "True"
      ]
     },
     "execution_count": 145,
     "metadata": {},
     "output_type": "execute_result"
    }
   ],
   "source": [
    "a = 'Pakistan first'\n",
    "a.startswith('P')"
   ]
  },
  {
   "cell_type": "code",
   "execution_count": 146,
   "id": "7f2f505e",
   "metadata": {},
   "outputs": [
    {
     "data": {
      "text/plain": [
       "'Pakistan '"
      ]
     },
     "execution_count": 146,
     "metadata": {},
     "output_type": "execute_result"
    }
   ],
   "source": [
    "a = 'Pakistan first'\n",
    "a.strip('first')"
   ]
  },
  {
   "cell_type": "code",
   "execution_count": 150,
   "id": "ec97604d",
   "metadata": {},
   "outputs": [
    {
     "data": {
      "text/plain": [
       "'PAKISTAN FIRST'"
      ]
     },
     "execution_count": 150,
     "metadata": {},
     "output_type": "execute_result"
    }
   ],
   "source": [
    "a = 'pakistan first'\n",
    "a.swapcase()"
   ]
  },
  {
   "cell_type": "code",
   "execution_count": 152,
   "id": "94c6f51c",
   "metadata": {},
   "outputs": [
    {
     "data": {
      "text/plain": [
       "'Pakistan First'"
      ]
     },
     "execution_count": 152,
     "metadata": {},
     "output_type": "execute_result"
    }
   ],
   "source": [
    "a = 'pakistan first'\n",
    "a.title()"
   ]
  },
  {
   "cell_type": "code",
   "execution_count": 155,
   "id": "3be362dc",
   "metadata": {},
   "outputs": [
    {
     "data": {
      "text/plain": [
       "'pakistan first'"
      ]
     },
     "execution_count": 155,
     "metadata": {},
     "output_type": "execute_result"
    }
   ],
   "source": [
    "a = 'pakistan first'\n",
    "a.translate('first')"
   ]
  },
  {
   "cell_type": "code",
   "execution_count": 156,
   "id": "7bfb10a4",
   "metadata": {},
   "outputs": [
    {
     "data": {
      "text/plain": [
       "'PAKISTAN FIRST'"
      ]
     },
     "execution_count": 156,
     "metadata": {},
     "output_type": "execute_result"
    }
   ],
   "source": [
    "a = 'pakistan first'\n",
    "a.upper()"
   ]
  },
  {
   "cell_type": "code",
   "execution_count": 164,
   "id": "6a2f16e7",
   "metadata": {},
   "outputs": [
    {
     "data": {
      "text/plain": [
       "'pakistan first'"
      ]
     },
     "execution_count": 164,
     "metadata": {},
     "output_type": "execute_result"
    }
   ],
   "source": [
    "a = 'pakistan first'\n",
    "a.zfill(5)"
   ]
  },
  {
   "cell_type": "code",
   "execution_count": null,
   "id": "1205f499",
   "metadata": {},
   "outputs": [],
   "source": []
  }
 ],
 "metadata": {
  "kernelspec": {
   "display_name": "Python 3 (ipykernel)",
   "language": "python",
   "name": "python3"
  },
  "language_info": {
   "codemirror_mode": {
    "name": "ipython",
    "version": 3
   },
   "file_extension": ".py",
   "mimetype": "text/x-python",
   "name": "python",
   "nbconvert_exporter": "python",
   "pygments_lexer": "ipython3",
   "version": "3.9.13"
  }
 },
 "nbformat": 4,
 "nbformat_minor": 5
}
